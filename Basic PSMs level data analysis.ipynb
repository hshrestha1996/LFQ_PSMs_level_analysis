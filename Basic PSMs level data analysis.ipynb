{
 "cells": [
  {
   "cell_type": "markdown",
   "metadata": {},
   "source": [
    "# Load the necessary package/library"
   ]
  },
  {
   "cell_type": "code",
   "execution_count": 5,
   "metadata": {},
   "outputs": [],
   "source": [
    "import pandas as pd\n",
    "import matplotlib.pyplot as plt\n",
    "import seaborn as sns\n",
    "import numpy as np"
   ]
  },
  {
   "cell_type": "markdown",
   "metadata": {},
   "source": [
    "# Load the file and change the formate of columns (remove spaces)"
   ]
  },
  {
   "cell_type": "code",
   "execution_count": 16,
   "metadata": {},
   "outputs": [],
   "source": [
    "file1= pd.read_excel(\"PSM example file.xlsx\")\n",
    "file1.columns= ['Peptide', 'P', 'Mass', 'Length', 'ppm', 'm/z', 'Z', 'RT', 'Area',\n",
    "       'Fraction', 'Id', 'Rep', 'Scan', 'from_Chimera', 'Source_File',\n",
    "       'Accession', 'PTM', 'AScore', 'Found_By', 'Sample_Group']"
   ]
  },
  {
   "cell_type": "code",
   "execution_count": 17,
   "metadata": {},
   "outputs": [
    {
     "data": {
      "text/plain": [
       "(17602, 20)"
      ]
     },
     "execution_count": 17,
     "metadata": {},
     "output_type": "execute_result"
    }
   ],
   "source": [
    "file1.shape"
   ]
  },
  {
   "cell_type": "markdown",
   "metadata": {},
   "source": [
    "# Convert the PSM file to matrix based on the condition"
   ]
  },
  {
   "cell_type": "code",
   "execution_count": 18,
   "metadata": {
    "scrolled": true
   },
   "outputs": [],
   "source": [
    "file=file1[['Peptide','Area','Source_File']]\n",
    "file.Area=file.Area.astype(dtype=float)\n",
    "file.set_index(\"Peptide\",inplace=True)\n",
    "file=file.pivot_table(columns=\"Source_File\",index=\"Peptide\",values=\"Area\")"
   ]
  },
  {
   "cell_type": "code",
   "execution_count": 19,
   "metadata": {},
   "outputs": [
    {
     "data": {
      "text/plain": [
       "(4724, 20)"
      ]
     },
     "execution_count": 19,
     "metadata": {},
     "output_type": "execute_result"
    }
   ],
   "source": [
    "file.shape"
   ]
  },
  {
   "cell_type": "markdown",
   "metadata": {},
   "source": [
    "# Change and arrange the column names"
   ]
  },
  {
   "cell_type": "code",
   "execution_count": 20,
   "metadata": {},
   "outputs": [],
   "source": [
    "file.columns= [\"XylemSap_rep2\",\"XylemSap_rep3\",\"XylemSap_rep4\",\"XylemSap_rep5\",\"XylemSap_rep1\",\"Roots_ECM1\",\"Roots_ECM2\",\"Roots_ECM3\",\"LB1\",\"LB2\",\"LB3\",\"Leaves_no_ECM1\",\"Leaves_no_ECM2\",\"Leaves_no_ECM3\",\"Leaves_ECM1\",\"Leaves_ECM2\",\"Leaves_ECM3\",\"Roots_no_ECM1\",\"Roots_no_ECM2\",\"Roots_no_ECM3\"]"
   ]
  },
  {
   "cell_type": "code",
   "execution_count": 21,
   "metadata": {},
   "outputs": [],
   "source": [
    "file=file[['XylemSap_rep1','XylemSap_rep2', 'XylemSap_rep3', 'XylemSap_rep4', 'XylemSap_rep5',\n",
    "       'Roots_no_ECM1','Roots_no_ECM2', 'Roots_no_ECM3', 'Roots_ECM1', 'Roots_ECM2', 'Roots_ECM3', 'LB1', 'LB2',\n",
    "       'LB3', 'Leaves_no_ECM1', 'Leaves_no_ECM2', 'Leaves_no_ECM3',\n",
    "       'Leaves_ECM1', 'Leaves_ECM2', 'Leaves_ECM3']]"
   ]
  },
  {
   "cell_type": "code",
   "execution_count": 12,
   "metadata": {},
   "outputs": [],
   "source": [
    "file.to_csv(\"8_7_all_matrix.csv\")"
   ]
  },
  {
   "cell_type": "markdown",
   "metadata": {},
   "source": [
    "# Only kept the data with at least 2/3 or 4/5 peptide present in any condition"
   ]
  },
  {
   "cell_type": "code",
   "execution_count": 22,
   "metadata": {},
   "outputs": [],
   "source": [
    "newDF= file\n",
    "peptides=[]\n",
    "#newDFExp1=newDF[newDF.iloc[:,0:5].count(axis=1) > 3]\n",
    "#peptides+=list(newDFExp1.index)\n",
    "newDFExp2=newDF[newDF.iloc[:,5:8].count(axis=1) > 1]\n",
    "peptides+=list(newDFExp2.index)\n",
    "newDFExp3=newDF[newDF.iloc[:,8:11].count(axis=1) > 1]\n",
    "peptides+=list(newDFExp3.index)\n",
    "newDFExp4=newDF[newDF.iloc[:,11:14].count(axis=1) > 1]\n",
    "peptides+=list(newDFExp4.index)\n",
    "#newDFExp5=newDF[newDF.iloc[:,14:17].count(axis=1) > 1]\n",
    "#peptides+=list(newDFExp5.index)\n",
    "#newDFExp6=newDF[newDF.iloc[:,17:21].count(axis=1) > 1]\n",
    "#peptides+=list(newDFExp6.index)"
   ]
  },
  {
   "cell_type": "code",
   "execution_count": 23,
   "metadata": {
    "scrolled": false
   },
   "outputs": [],
   "source": [
    "newDF2 = newDF.reset_index()\n",
    "newDF3=newDF2[newDF2['Peptide'].isin(peptides)]\n",
    "newDF3.set_index('Peptide',inplace=True)\n",
    "file=newDF3\n",
    "file.fillna(1,inplace=True)\n",
    "file=np.log2(file)"
   ]
  },
  {
   "cell_type": "code",
   "execution_count": 24,
   "metadata": {},
   "outputs": [
    {
     "data": {
      "text/plain": [
       "(1467, 20)"
      ]
     },
     "execution_count": 24,
     "metadata": {},
     "output_type": "execute_result"
    }
   ],
   "source": [
    "file.shape"
   ]
  },
  {
   "cell_type": "code",
   "execution_count": 9,
   "metadata": {},
   "outputs": [],
   "source": [
    "file.to_csv(\"8_7_no_peptide_filtered.csv\")"
   ]
  },
  {
   "cell_type": "code",
   "execution_count": 68,
   "metadata": {
    "scrolled": false
   },
   "outputs": [
    {
     "data": {
      "text/plain": [
       "'Unquote the lines below to visualize the file in heatmap'"
      ]
     },
     "execution_count": 68,
     "metadata": {},
     "output_type": "execute_result"
    }
   ],
   "source": [
    "\"\"\"Unquote the lines below to visualize the file in heatmap\"\"\"\n",
    "#fig= sns.clustermap(file, cmap='BuGn',col_cluster=False)\n",
    "#fig.ax_heatmap.set_yticks([]);"
   ]
  },
  {
   "cell_type": "markdown",
   "metadata": {},
   "source": [
    "# T-test in Root ECM vs Root no ECM and Leave ECM vs Leave no ECM"
   ]
  },
  {
   "cell_type": "code",
   "execution_count": 10,
   "metadata": {},
   "outputs": [],
   "source": [
    "from scipy.stats import ttest_ind\n",
    "def ttest(df_X,condition1,condition2,sample_source):\n",
    "    index=[]\n",
    "    t_stat=[]\n",
    "    p_value=[]\n",
    "    for a in df_X.index:\n",
    "        (t_statistic,p_values)=ttest_ind(condition1.loc[a],condition2.loc[a])\n",
    "        index.append(a)\n",
    "        t_stat.append(t_statistic)\n",
    "        p_value.append(p_values)\n",
    "    ttest=pd.DataFrame(index)\n",
    "    ttest[\"t_stat_\"+sample_source]=t_stat\n",
    "    ttest[\"P_values_\"+sample_source]=p_value\n",
    "    ttest.columns=[\"Peptide\", 't_stat_'+sample_source, 'P_values_'+sample_source]\n",
    "    return ttest\n",
    "def conditions(file, factor):\n",
    "    conditions=file.loc[:,file.columns.str.contains(factor)]\n",
    "    return conditions "
   ]
  },
  {
   "cell_type": "code",
   "execution_count": 11,
   "metadata": {},
   "outputs": [],
   "source": [
    "leave_ECM=conditions(file,\"Leaves_ECM\")\n",
    "leave_no_ECM=conditions(file,\"Leaves_no_ECM\")\n",
    "Root_ECM=conditions(file,\"Roots_ECM\")\n",
    "Root_no_ECM=conditions(file,\"Roots_no_ECM\")"
   ]
  },
  {
   "cell_type": "code",
   "execution_count": 12,
   "metadata": {
    "scrolled": true
   },
   "outputs": [
    {
     "name": "stderr",
     "output_type": "stream",
     "text": [
      "C:\\Users\\himsh\\AppData\\Local\\Continuum\\anaconda3\\lib\\site-packages\\scipy\\stats\\_distn_infrastructure.py:879: RuntimeWarning: invalid value encountered in greater\n",
      "  return (self.a < x) & (x < self.b)\n",
      "C:\\Users\\himsh\\AppData\\Local\\Continuum\\anaconda3\\lib\\site-packages\\scipy\\stats\\_distn_infrastructure.py:879: RuntimeWarning: invalid value encountered in less\n",
      "  return (self.a < x) & (x < self.b)\n",
      "C:\\Users\\himsh\\AppData\\Local\\Continuum\\anaconda3\\lib\\site-packages\\scipy\\stats\\_distn_infrastructure.py:1821: RuntimeWarning: invalid value encountered in less_equal\n",
      "  cond2 = cond0 & (x <= self.a)\n"
     ]
    }
   ],
   "source": [
    "ttest1=ttest(file,leave_ECM, leave_no_ECM,sample_source=\"Leave\")\n",
    "ttest2=ttest(file,Root_ECM, Root_no_ECM,sample_source=\"Root\")"
   ]
  },
  {
   "cell_type": "code",
   "execution_count": 13,
   "metadata": {},
   "outputs": [],
   "source": [
    "ttest2.to_csv(\"8_7_ttest_result.csv\")"
   ]
  },
  {
   "cell_type": "markdown",
   "metadata": {},
   "source": [
    "# Calculate the fold change in ECM vs no ECM in different samples"
   ]
  },
  {
   "cell_type": "code",
   "execution_count": 72,
   "metadata": {},
   "outputs": [],
   "source": [
    "def fold_change(df_X,df_Y,axis):\n",
    "    fold_change=(df_X.mean(axis=axis))-(df_Y.mean(axis=axis))\n",
    "    fold_change=pd.DataFrame(fold_change)\n",
    "    fold_change.columns=[\"Fold\"]\n",
    "    return fold_change\n",
    "def significant_withfold_change(df_X,df_foldchange,p_value_Colname,p_value, on):#df_X is ttest result\n",
    "    sig=df_X.dropna()\n",
    "    sig=sig.loc[(sig[p_value_Colname]<p_value)]\n",
    "    fold_change=df_foldchange\n",
    "    sig_foldchange=sig.merge(fold_change, on=on, how=\"inner\")\n",
    "    return sig_foldchange \n",
    "def splitcolumn(df, delimiter, col_name):\n",
    "    Acc_list=df[col_name].str.split(delimiter)\n",
    "    Acc_list.dropna(inplace=True)\n",
    "    Accession=[]\n",
    "    for value in Acc_list:\n",
    "        for sub_value in value:\n",
    "            Accession.append(sub_value)\n",
    "    file=pd.DataFrame(Accession)\n",
    "    return file\n",
    "def peptide_to_protein(df_X,sample_source,merge_in):\n",
    "    Access=df_X.loc[df_X.Sample_Group.str.contains(sample_source)]\n",
    "    Access=Access[['Peptide','Accession']]\n",
    "    Access=Access.drop_duplicates()\n",
    "    Access= Access.set_index(\"Peptide\")\n",
    "    Access=merge_in.merge(Access, on=\"Peptide\",how=\"left\")\n",
    "    return Access"
   ]
  },
  {
   "cell_type": "code",
   "execution_count": 148,
   "metadata": {},
   "outputs": [],
   "source": [
    "leave_fc=fold_change(leave_ECM,leave_no_ECM,axis=1)\n",
    "Root_fc=fold_change(Root_ECM,Root_no_ECM,axis=1)\n",
    "leave_fold_change=significant_withfold_change(ttest1,leave_fc,p_value_Colname=\"P_values_Leave\",p_value=0.05,on=\"Peptide\")\n",
    "Root_fold_change=significant_withfold_change(ttest2,Root_fc,p_value_Colname=\"P_values_Root\",p_value=0.05,on=\"Peptide\")"
   ]
  },
  {
   "cell_type": "code",
   "execution_count": 149,
   "metadata": {},
   "outputs": [
    {
     "data": {
      "image/png": "[encoded data removed]",
      "text/plain": [
       "<Figure size 576x360 with 1 Axes>"
      ]
     },
     "metadata": {
      "needs_background": "light"
     },
     "output_type": "display_data"
    }
   ],
   "source": [
    "fig, ax = plt.subplots(figsize=(8, 5))\n",
    "ax.scatter(leave_fold_change.Fold,-np.log10(leave_fold_change.P_values_Leave),s=15, color='gray')\n",
    "ax.scatter(leave_fold_change_2.Fold,-np.log10(leave_fold_change_2.P_values_Leave),s=18, color='red')\n",
    "ax.plot([-5,-5],[0,12],\"k--\",lw=1,color=\"gray\")\n",
    "ax.plot([5,5],[0,12],\"k--\",lw=1,color=\"gray\")\n",
    "ax.plot([-30,20],[-np.log10(leave_fold_change_2.P_values_Leave.max()),-np.log10(leave_fold_change_2.P_values_Leave.max())],\"k--\",lw=1,color=\"gray\")\n",
    "ax.set_ylabel('-log10(p-values)')\n",
    "ax.set_xlabel('Log2(Fold-change)')\n",
    "ax.set_title('Volcano plot for Leave ECM vs Leave no ECM');"
   ]
  },
  {
   "cell_type": "code",
   "execution_count": null,
   "metadata": {},
   "outputs": [],
   "source": []
  },
  {
   "cell_type": "code",
   "execution_count": null,
   "metadata": {},
   "outputs": [],
   "source": []
  },
  {
   "cell_type": "markdown",
   "metadata": {},
   "source": [
    "# Filtered the peptide with more than (X) fold change"
   ]
  },
  {
   "cell_type": "code",
   "execution_count": 86,
   "metadata": {},
   "outputs": [],
   "source": [
    "leave_fold_change_2=leave_fold_change.loc[leave_fold_change.Fold.abs()>5] #change the fold change value accordingly \n",
    "Root_fold_change_2=Root_fold_change.loc[Root_fold_change.Fold.abs()>5]"
   ]
  },
  {
   "cell_type": "markdown",
   "metadata": {},
   "source": [
    "# Map the peptide to Accession for each sample source"
   ]
  },
  {
   "cell_type": "code",
   "execution_count": 128,
   "metadata": {},
   "outputs": [],
   "source": [
    "leave_accession_foldchange=peptide_to_protein(file1,\"Leave\",leave_fold_change)\n",
    "Root_accession_foldchange=peptide_to_protein(file1,\"Root\",Root_fold_change)"
   ]
  },
  {
   "cell_type": "code",
   "execution_count": 129,
   "metadata": {},
   "outputs": [],
   "source": [
    "leave_accession_foldchange.to_csv(\"Leave_foldchange_ECMvsnoECM_with_fc.csv\")\n",
    "Root_accession_foldchange.to_csv(\"Root_foldchange_ECMvsnoECM_with_fc.csv\")"
   ]
  },
  {
   "cell_type": "markdown",
   "metadata": {},
   "source": [
    "# Significant peptide for both T-test"
   ]
  },
  {
   "cell_type": "code",
   "execution_count": 130,
   "metadata": {},
   "outputs": [],
   "source": [
    "combine=ttest1.merge(ttest2, on=\"Peptide\",how=\"outer\")\n",
    "combine=combine.set_index(\"Peptide\")\n",
    "combine=combine.dropna(how=\"all\")\n",
    "sig=combine.loc[(combine.P_values_Leave<0.05)|(combine.P_values_Root<0.05)]\n",
    "sig=sig.merge(file,on=\"Peptide\", how=\"left\")\n",
    "sig=sig[['XylemSap_rep1', 'XylemSap_rep2', 'XylemSap_rep3', 'XylemSap_rep4','XylemSap_rep5', 'Roots_no_ECM1', 'Roots_no_ECM2', 'Roots_no_ECM3','Roots_ECM1', 'Roots_ECM2', 'Roots_ECM3', 'LB1', 'LB2', 'LB3','Leaves_no_ECM1', 'Leaves_no_ECM2', 'Leaves_no_ECM3', 'Leaves_ECM1','Leaves_ECM2', 'Leaves_ECM3']]"
   ]
  },
  {
   "cell_type": "markdown",
   "metadata": {},
   "source": [
    "# Visualization of Significant peptide"
   ]
  },
  {
   "cell_type": "code",
   "execution_count": 17,
   "metadata": {},
   "outputs": [
    {
     "data": {
      "text/plain": [
       "'Unquote the lines to plot heatmap'"
      ]
     },
     "execution_count": 17,
     "metadata": {},
     "output_type": "execute_result"
    }
   ],
   "source": [
    "\"\"\"Unquote the lines to plot heatmap\"\"\"\n",
    "#fig= sns.clustermap(sig, cmap='BuGn',col_cluster=False, vmax=25,method=\"ward\")\n",
    "#fig.ax_heatmap.set_yticks([])\n",
    "#fig.ax_heatmap.set_title(\"Heatmap of t-test significant peptides\")\n",
    "#fig.savefig(\"Heatmap of t-test.png\")"
   ]
  },
  {
   "cell_type": "markdown",
   "metadata": {},
   "source": [
    "# Mapping all significant Peptide to Accession"
   ]
  },
  {
   "cell_type": "code",
   "execution_count": 19,
   "metadata": {},
   "outputs": [
    {
     "data": {
      "text/plain": [
       "'unquote the last line to save the file'"
      ]
     },
     "execution_count": 19,
     "metadata": {},
     "output_type": "execute_result"
    }
   ],
   "source": [
    "allsig_withaccession=sig.merge(file1, on=\"Peptide\", how=\"left\")\n",
    "allsig_withaccession=allsig_withaccession.reset_index()\n",
    "#allsig_withaccession.to_csv(\"pepwithaccession.csv\")\n",
    "\"\"\"unquote the last line to save the file\"\"\""
   ]
  },
  {
   "cell_type": "code",
   "execution_count": null,
   "metadata": {},
   "outputs": [],
   "source": []
  },
  {
   "cell_type": "code",
   "execution_count": null,
   "metadata": {},
   "outputs": [],
   "source": []
  }
 ],
 "metadata": {
  "kernelspec": {
   "display_name": "Python 3 (ipykernel)",
   "language": "python",
   "name": "python3"
  },
  "language_info": {
   "codemirror_mode": {
    "name": "ipython",
    "version": 3
   },
   "file_extension": ".py",
   "mimetype": "text/x-python",
   "name": "python",
   "nbconvert_exporter": "python",
   "pygments_lexer": "ipython3",
   "version": "3.8.16"
  }
 },
 "nbformat": 4,
 "nbformat_minor": 2
}
